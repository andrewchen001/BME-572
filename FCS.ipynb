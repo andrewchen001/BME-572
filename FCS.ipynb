{
 "cells": [
  {
   "cell_type": "code",
   "execution_count": 1,
   "metadata": {},
   "outputs": [],
   "source": [
    "%matplotlib inline\n",
    "import numpy as np\n",
    "import matplotlib.pyplot as plt\n",
    "from scipy.integrate import quad\n",
    "from scipy.stats import norm\n",
    "from scipy.interpolate import interp1d\n",
    "import lmfit"
   ]
  },
  {
   "cell_type": "code",
   "execution_count": 2,
   "metadata": {},
   "outputs": [
    {
     "data": {
      "text/plain": [
       "1e-05"
      ]
     },
     "execution_count": 2,
     "metadata": {},
     "output_type": "execute_result"
    }
   ],
   "source": [
    "dt = np.float64(1e-5)\n",
    "D = 1.0\n",
    "L = 10\n",
    "N = 20\n",
    "length = np.int(1e5)"
   ]
  },
  {
   "cell_type": "code",
   "execution_count": 3,
   "metadata": {},
   "outputs": [],
   "source": [
    "x = 2*L*np.random.random(size=(N,))\n",
    "steps = np.random.normal(loc=0.0,scale=np.sqrt(2*D*dt),size=(N,length))\n",
    "x = np.column_stack((x,steps))\n",
    "paths = np.mod(np.cumsum(x,axis=1),2*L)-L\n",
    "intensity = norm.pdf(paths,loc=0)\n",
    "intensity = np.sum(intensity,axis=0)"
   ]
  },
  {
   "cell_type": "code",
   "execution_count": 4,
   "metadata": {},
   "outputs": [
    {
     "data": {
      "text/plain": [
       "[<matplotlib.lines.Line2D at 0x1cc13ebe828>]"
      ]
     },
     "execution_count": 4,
     "metadata": {},
     "output_type": "execute_result"
    },
    {
     "data": {
      "image/png": "[encoded data removed]",
      "text/plain": [
       "<Figure size 432x288 with 1 Axes>"
      ]
     },
     "metadata": {},
     "output_type": "display_data"
    }
   ],
   "source": [
    "tt = np.arange(length+1)*dt\n",
    "plt.plot(tt,intensity)"
   ]
  },
  {
   "cell_type": "code",
   "execution_count": 5,
   "metadata": {},
   "outputs": [],
   "source": [
    "intensity_interp = interp1d(tt,intensity*10000)\n",
    "t = 0\n",
    "delta_t_list=[]\n",
    "while t < tt[-1]:\n",
    "    current_int = intensity_interp(t)\n",
    "    delta_t = np.random.exponential(1/current_int)\n",
    "    delta_t_list.append(delta_t)\n",
    "    t = t + delta_t"
   ]
  },
  {
   "cell_type": "code",
   "execution_count": 6,
   "metadata": {},
   "outputs": [],
   "source": [
    "delta_t_list = np.array(delta_t_list)\n",
    "delta_t_list.sort(axis=0)"
   ]
  },
  {
   "cell_type": "code",
   "execution_count": 7,
   "metadata": {},
   "outputs": [
    {
     "data": {
      "text/plain": [
       "(array([3.400e+03, 2.365e+03, 1.708e+03, 1.163e+03, 7.630e+02, 5.880e+02,\n",
       "        3.850e+02, 2.620e+02, 1.880e+02, 1.480e+02, 8.500e+01, 5.900e+01,\n",
       "        5.000e+01, 2.700e+01, 2.200e+01, 2.200e+01, 1.100e+01, 5.000e+00,\n",
       "        1.000e+00, 2.000e+00, 7.000e+00, 1.000e+00, 0.000e+00, 2.000e+00,\n",
       "        0.000e+00, 0.000e+00, 0.000e+00, 1.000e+00, 0.000e+00, 1.000e+00]),\n",
       " array([3.79432569e-09, 3.20201035e-05, 6.40364126e-05, 9.60527218e-05,\n",
       "        1.28069031e-04, 1.60085340e-04, 1.92101649e-04, 2.24117958e-04,\n",
       "        2.56134268e-04, 2.88150577e-04, 3.20166886e-04, 3.52183195e-04,\n",
       "        3.84199504e-04, 4.16215813e-04, 4.48232123e-04, 4.80248432e-04,\n",
       "        5.12264741e-04, 5.44281050e-04, 5.76297359e-04, 6.08313668e-04,\n",
       "        6.40329977e-04, 6.72346287e-04, 7.04362596e-04, 7.36378905e-04,\n",
       "        7.68395214e-04, 8.00411523e-04, 8.32427832e-04, 8.64444142e-04,\n",
       "        8.96460451e-04, 9.28476760e-04, 9.60493069e-04]),\n",
       " <a list of 30 Patch objects>)"
      ]
     },
     "execution_count": 7,
     "metadata": {},
     "output_type": "execute_result"
    },
    {
     "data": {
      "image/png": "[encoded data removed]",
      "text/plain": [
       "<Figure size 432x288 with 1 Axes>"
      ]
     },
     "metadata": {},
     "output_type": "display_data"
    }
   ],
   "source": [
    "plt.hist(delta_t_list,bins=30)"
   ]
  },
  {
   "cell_type": "code",
   "execution_count": 8,
   "metadata": {},
   "outputs": [],
   "source": [
    "def p_dt_int(x,flux):\n",
    "    return np.exp(-flux*x)/np.sqrt(-np.log(x))"
   ]
  },
  {
   "cell_type": "code",
   "execution_count": 9,
   "metadata": {},
   "outputs": [],
   "source": [
    "def p_dt(flux):\n",
    "    return np.array([quad(p_dt_int,0,1,args=(f))[0] for f in flux])"
   ]
  },
  {
   "cell_type": "code",
   "execution_count": 12,
   "metadata": {},
   "outputs": [
    {
     "data": {
      "image/png": "[encoded data removed]",
      "text/plain": [
       "<Figure size 432x288 with 1 Axes>"
      ]
     },
     "metadata": {},
     "output_type": "display_data"
    }
   ],
   "source": [
    "I0 = 10\n",
    "for i in range(10):\n",
    "    I0 = I0*10\n",
    "    liklihood = p_dt(I0*delta_t_list)*I0\n",
    "    plt.plot(delta_t_list,liklihood)"
   ]
  },
  {
   "cell_type": "code",
   "execution_count": 11,
   "metadata": {},
   "outputs": [
    {
     "data": {
      "text/plain": [
       "100000000000000000000000"
      ]
     },
     "execution_count": 11,
     "metadata": {},
     "output_type": "execute_result"
    }
   ],
   "source": [
    "I0"
   ]
  },
  {
   "cell_type": "code",
   "execution_count": 65,
   "metadata": {},
   "outputs": [],
   "source": [
    "p = lmfit.Parameters()\n",
    "p.add('I0',value=1)\n",
    "N = len(delta_t_list)\n",
    "def residual(p):\n",
    "    return -N*np.log(p['I0'])-np.sum(np.log(p_dt(p['I0']*delta_t_list[100:200])))"
   ]
  },
  {
   "cell_type": "code",
   "execution_count": null,
   "metadata": {},
   "outputs": [],
   "source": []
  },
  {
   "cell_type": "code",
   "execution_count": 66,
   "metadata": {},
   "outputs": [
    {
     "name": "stdout",
     "output_type": "stream",
     "text": [
      "[[Variables]]\n",
      "    I0:  1.6642e+09 (init = 1)\n"
     ]
    },
    {
     "name": "stderr",
     "output_type": "stream",
     "text": [
      "C:\\Users\\mebra\\Anaconda3\\lib\\site-packages\\lmfit\\minimizer.py:335: RuntimeWarning: divide by zero encountered in double_scalars\n",
      "  self.redchi = self.chisqr / self.nfree\n"
     ]
    }
   ],
   "source": [
    "mini = lmfit.Minimizer(residual,p,nan_policy='omit')\n",
    "out1 = mini.minimize(method='Nelder')\n",
    "lmfit.report_fit(out1.params, min_correl=0.5)"
   ]
  },
  {
   "cell_type": "code",
   "execution_count": 67,
   "metadata": {},
   "outputs": [
    {
     "data": {
      "text/plain": [
       "2697"
      ]
     },
     "execution_count": 67,
     "metadata": {},
     "output_type": "execute_result"
    }
   ],
   "source": [
    "N"
   ]
  },
  {
   "cell_type": "code",
   "execution_count": 72,
   "metadata": {},
   "outputs": [
    {
     "data": {
      "text/plain": [
       "100000.0"
      ]
     },
     "execution_count": 72,
     "metadata": {},
     "output_type": "execute_result"
    }
   ],
   "source": [
    "length"
   ]
  },
  {
   "cell_type": "code",
   "execution_count": null,
   "metadata": {},
   "outputs": [],
   "source": []
  }
 ],
 "metadata": {
  "kernelspec": {
   "display_name": "Python 3",
   "language": "python",
   "name": "python3"
  },
  "language_info": {
   "codemirror_mode": {
    "name": "ipython",
    "version": 3
   },
   "file_extension": ".py",
   "mimetype": "text/x-python",
   "name": "python",
   "nbconvert_exporter": "python",
   "pygments_lexer": "ipython3",
   "version": "3.6.5"
  }
 },
 "nbformat": 4,
 "nbformat_minor": 2
}
